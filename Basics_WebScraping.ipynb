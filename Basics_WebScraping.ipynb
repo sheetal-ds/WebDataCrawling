{
 "cells": [
  {
   "cell_type": "code",
   "execution_count": 334,
   "id": "cc251866",
   "metadata": {},
   "outputs": [],
   "source": [
    "from bs4 import BeautifulSoup\n",
    "import requests\n",
    "import re ##For Regex\n",
    "import pandas as pd"
   ]
  },
  {
   "cell_type": "markdown",
   "id": "9b7dd825",
   "metadata": {},
   "source": [
    " ## load https://www.tigerdirect.com/applications/SearchTools/item-details.asp?EdpNo=1501390"
   ]
  },
  {
   "cell_type": "markdown",
   "id": "b4ac87e8",
   "metadata": {},
   "source": [
    "#### Question 1 - use your browser's development tools to find a unique way to access its list price and its current price. What do you choose? "
   ]
  },
  {
   "cell_type": "code",
   "execution_count": 335,
   "id": "81edbf78",
   "metadata": {},
   "outputs": [
    {
     "name": "stdout",
     "output_type": "stream",
     "text": [
      "List Price: $1,399.99\n"
     ]
    }
   ],
   "source": [
    "url= \"https://www.tigerdirect.com/applications/SearchTools/item-details.asp?EdpNo=1501390\" ##Storing the URL in a variable\n",
    "headers = {'User-Agent': 'Mozilla/5.0'} ##Need to access the url using user agent as a browser\n",
    "page = requests.get(url, headers = headers) ##get the page content using get request\n",
    "soup = BeautifulSoup(page.text, 'html.parser') ##creating beautiful soup object to parse the text of the page\n",
    "list_price_content = soup.select(\"div.pdp-price > p.list-price > span > del\") ##this is the path for list price, its strike-through. 'div' is the tag and following it is the path to get list price\n",
    "list_price = [] ##creating a list then appending the content of list price in it\n",
    "for i in list_price_content:\n",
    "    list_price.append(i.text.strip())\n",
    "print(\"List Price:\",list_price[0]) ##print"
   ]
  },
  {
   "cell_type": "code",
   "execution_count": 336,
   "id": "e5f9e295",
   "metadata": {
    "scrolled": true
   },
   "outputs": [
    {
     "name": "stdout",
     "output_type": "stream",
     "text": [
      "Sale Price: $1,029\r\n",
      "          and 99 cents\n"
     ]
    }
   ],
   "source": [
    "##Used similar method described above to get the sale price (it is extracted in a slightly different format than list price)\n",
    "sale_price_content = soup.select(\"div.pdp-price > p.final-price > span.sale-price > span.sr-only\")\n",
    "sale_price = []\n",
    "for i in sale_price_content:\n",
    "    sale_price.append(i.text.strip())\n",
    "print(\"Sale Price:\",sale_price[0])"
   ]
  },
  {
   "cell_type": "markdown",
   "id": "85fa23cf",
   "metadata": {},
   "source": [
    "#### Question 2 - store the prices to strings"
   ]
  },
  {
   "cell_type": "code",
   "execution_count": 337,
   "id": "6b4b1a53",
   "metadata": {},
   "outputs": [
    {
     "data": {
      "text/plain": [
       "['$1,399.99', '$1,029\\r\\n          and 99 cents']"
      ]
     },
     "execution_count": 337,
     "metadata": {},
     "output_type": "execute_result"
    }
   ],
   "source": [
    "##Combine the two lists of list price and sale price\n",
    "prices = list_price + sale_price\n",
    "prices"
   ]
  },
  {
   "cell_type": "code",
   "execution_count": 338,
   "id": "5a9ccb9b",
   "metadata": {
    "scrolled": true
   },
   "outputs": [],
   "source": [
    "##Convert them to string\n",
    "string = \"\"\n",
    "string=' '.join(map(str,prices))\n",
    "list_string = \"\"\n",
    "list_string=' '.join(map(str,list_price))\n",
    "sale_string = \"\"\n",
    "sale_string=' '.join(map(str,sale_price))"
   ]
  },
  {
   "cell_type": "markdown",
   "id": "53671283",
   "metadata": {},
   "source": [
    "#### Question 3 - use Python's (or Java's) regex (!!) functionality to convert the prices to \"1234.56\" (no dollar sign, comma, just a \".\" separator for cents)"
   ]
  },
  {
   "cell_type": "code",
   "execution_count": 339,
   "id": "93b0e5dc",
   "metadata": {},
   "outputs": [
    {
     "name": "stdout",
     "output_type": "stream",
     "text": [
      "1399.99\n"
     ]
    }
   ],
   "source": [
    "##Regex to extract only prices from list price string with no dollar sign, comma, just a \".\" separator for cents\n",
    "##First replace ',' and '$' with '' in list price\n",
    "pattern = '[$,]'\n",
    "#empty string to replace it with\n",
    "replace = ''\n",
    "new_string = re.sub(pattern, replace, list_string) \n",
    "print(new_string)"
   ]
  },
  {
   "cell_type": "code",
   "execution_count": 341,
   "id": "7c307f9d",
   "metadata": {},
   "outputs": [
    {
     "data": {
      "text/plain": [
       "'$1,029\\r\\n          and 99 cents'"
      ]
     },
     "execution_count": 341,
     "metadata": {},
     "output_type": "execute_result"
    }
   ],
   "source": [
    "sale_string"
   ]
  },
  {
   "cell_type": "code",
   "execution_count": 342,
   "id": "66350b24",
   "metadata": {},
   "outputs": [
    {
     "name": "stdout",
     "output_type": "stream",
     "text": [
      "1029.99 \n"
     ]
    }
   ],
   "source": [
    "##Regex to extract only prices from sale price string with no dollar sign, comma, just a \".\" separator for cents\n",
    "##First replace ',' letters 'and','cents' '\\r' and '$' with '' in list price\n",
    "pattern2 = '[$,a-z\\r+]'\n",
    "replace = ''\n",
    "new_string2 = re.sub(pattern2, replace, sale_string) \n",
    "##There is still a whitespace between 1029 and 99. We need to replace it with a single dot '.'\n",
    "pattern3 = '[\\s]+(?=[0-9])' ##finding white space followed by a digit, positive lookahead\n",
    "replace2 = '.'\n",
    "new_string3 = re.sub(pattern3, replace2, new_string2) \n",
    "print(new_string3)"
   ]
  },
  {
   "cell_type": "markdown",
   "id": "ad387d9a",
   "metadata": {},
   "source": [
    "#### Question 4 - print both, the list price and the current price to screen"
   ]
  },
  {
   "cell_type": "code",
   "execution_count": 343,
   "id": "0a5d3a23",
   "metadata": {},
   "outputs": [
    {
     "name": "stdout",
     "output_type": "stream",
     "text": [
      "List Price: 1399.99 \n",
      "Sale Price: 1029.99 \n"
     ]
    }
   ],
   "source": [
    "print(\"List Price:\",new_string,\"\\nSale Price:\",new_string3)"
   ]
  },
  {
   "cell_type": "markdown",
   "id": "a090d061",
   "metadata": {},
   "source": [
    "#### Question 5 - Write code that loads \"https://www.usnews.com/\""
   ]
  },
  {
   "cell_type": "code",
   "execution_count": 344,
   "id": "6921ac20",
   "metadata": {},
   "outputs": [],
   "source": [
    "url= \"https://www.usnews.com/\"\n",
    "headers = {'User-Agent': 'Mozilla/5.0'}\n",
    "page2 = requests.get(url, headers = headers)\n",
    "soup2 = BeautifulSoup(page2.text, 'html.parser')\n",
    "##Same method as in question 1"
   ]
  },
  {
   "cell_type": "markdown",
   "id": "bdaf55cf",
   "metadata": {},
   "source": [
    "#### Question 6 - \"finds\" its current \"Top Stories\" (do not hard-code it's URL!)"
   ]
  },
  {
   "cell_type": "code",
   "execution_count": 345,
   "id": "f50bd903",
   "metadata": {},
   "outputs": [
    {
     "name": "stdout",
     "output_type": "stream",
     "text": [
      "McCarthy, Biden to Talk Amid Debt ThreatA precarious partisan battle is threatening the first-ever default on the national debt.Kaia Hubbard\n",
      "Existing Homes Fall 1.5% in DecemberThe performance was better than expected and prices inched up a little from a year ago.Tim Smart\n"
     ]
    }
   ],
   "source": [
    "t = soup2.find('div', class_ = \"Box-w0dun1-0 ArmRestTopStories__Part-s0vo7p-1 erkdnc biVKSR\")\n",
    "for i in t:\n",
    "\tprint(i.text.strip())\n",
    "    \n",
    "##Top stories were stored in above class in 'div' tag, it was extracted from its path \n",
    "##Here I used find() instead of select() since select would locate all elements of a particular this class which was many more stories while I was able to extract only top stories using find since it finds only the first instance"
   ]
  },
  {
   "cell_type": "markdown",
   "id": "eae0a9bb",
   "metadata": {},
   "source": [
    "#### Question 7 - read + print the URL of the _second_ current top story to the screen"
   ]
  },
  {
   "cell_type": "code",
   "execution_count": 346,
   "id": "0fc2b44f",
   "metadata": {
    "scrolled": true
   },
   "outputs": [
    {
     "data": {
      "text/plain": [
       "<h3 class=\"Heading-sc-1w5xk2o-0 ContentBox__StoryHeading-sc-1egb8dt-3 MRvpF fqJuKa story-headline\"><a href=\"https://www.usnews.com/news/economy/articles/2023-01-20/existing-homes-fall-1-5-in-december-marking-11th-month-of-declines\">Existing Homes Fall 1.5% in December</a></h3>"
      ]
     },
     "execution_count": 346,
     "metadata": {},
     "output_type": "execute_result"
    }
   ],
   "source": [
    "t2 = soup2.findAll('h3', class_ = \"Heading-sc-1w5xk2o-0 ContentBox__StoryHeading-sc-1egb8dt-3 MRvpF fqJuKa story-headline\")\n",
    "t2\n",
    "##There are 4 instances where h3 tag exists and the required top story 2 is at the third occurence. These elements also contain tag 'a' where URLs of the stories are stored\n",
    "##t2 is bs4.element.ResultSet i.e. Resultset of elements with h3 tag and we are interested in 3rd element that is t[2]\n",
    "t2[2] ##This is the required element"
   ]
  },
  {
   "cell_type": "code",
   "execution_count": 347,
   "id": "19e5815d",
   "metadata": {},
   "outputs": [],
   "source": [
    "##URL of the required second news is a part of this element, we save this element in a variable\n",
    "a = t2[2].find('a',href=True)\n",
    "##We can extract the required URL by using 'href' as below"
   ]
  },
  {
   "cell_type": "code",
   "execution_count": 348,
   "id": "07667905",
   "metadata": {},
   "outputs": [
    {
     "name": "stdout",
     "output_type": "stream",
     "text": [
      "URL of second top story is:\n",
      " https://www.usnews.com/news/economy/articles/2023-01-20/existing-homes-fall-1-5-in-december-marking-11th-month-of-declines\n"
     ]
    }
   ],
   "source": [
    "print(\"URL of second top story is:\\n\", a['href'])"
   ]
  },
  {
   "cell_type": "markdown",
   "id": "99331b79",
   "metadata": {},
   "source": [
    "#### Question 8 - load that page"
   ]
  },
  {
   "cell_type": "code",
   "execution_count": 349,
   "id": "e518401c",
   "metadata": {},
   "outputs": [
    {
     "data": {
      "text/plain": [
       "str"
      ]
     },
     "execution_count": 349,
     "metadata": {},
     "output_type": "execute_result"
    }
   ],
   "source": [
    "url_top2story = a['href']\n",
    "type(url_top2story)"
   ]
  },
  {
   "cell_type": "code",
   "execution_count": 350,
   "id": "6d08a851",
   "metadata": {},
   "outputs": [],
   "source": [
    "##Requesting the page through get request passing URL and User Agent Mozilla as headers\n",
    "page3 = requests.get(url_top2story, headers = headers)\n",
    "##Creating the beautiful soup object to parse and load the page\n",
    "soup3 = BeautifulSoup(page3.text, 'html.parser')"
   ]
  },
  {
   "cell_type": "markdown",
   "id": "3b987bd6",
   "metadata": {},
   "source": [
    "#### Question 9 - read + print the header as well as the first 3 sentences of the main body to the screen"
   ]
  },
  {
   "cell_type": "code",
   "execution_count": 351,
   "id": "ce5e4f9c",
   "metadata": {},
   "outputs": [
    {
     "data": {
      "text/plain": [
       "<div class=\"Raw-slyvem-0 bCYKCn\"><p>“December was another difficult month for buyers, who continue to face limited inventory and high mortgage rates,” said NAR Chief Economist Lawrence Yun. “However, expect sales to pick up again soon since mortgage rates have markedly declined after peaking late last year.”</p></div>"
      ]
     },
     "execution_count": 351,
     "metadata": {},
     "output_type": "execute_result"
    }
   ],
   "source": [
    "header_top2 = soup3.findAll('h1', class_ = \"Heading-sc-1w5xk2o-0 iQhOvV\") ##only one header with h1 tag stored under this class\n",
    "header_top2[0].text ##This is the header of the second story\n",
    "content = soup3.findAll('div', class_ = \"Raw-slyvem-0 bCYKCn\") ##entire content / sentences of the article (excluding images, ads, other sentences) in this class\n",
    "content[0]\n",
    "content[1] ##Here 2nd element of content list has just one space, it doesn't contain a sentence of the story, so we have to add one more element content[3]\n",
    "content[2]\n",
    "content[3]"
   ]
  },
  {
   "cell_type": "code",
   "execution_count": 352,
   "id": "d10f2b3b",
   "metadata": {},
   "outputs": [
    {
     "data": {
      "text/plain": [
       "<div class=\"Raw-slyvem-0 bCYKCn\"><p></p></div>"
      ]
     },
     "execution_count": 352,
     "metadata": {},
     "output_type": "execute_result"
    }
   ],
   "source": [
    "content[1]"
   ]
  },
  {
   "cell_type": "code",
   "execution_count": 353,
   "id": "97fa6c73",
   "metadata": {},
   "outputs": [
    {
     "name": "stdout",
     "output_type": "stream",
     "text": [
      "Existing Homes Fall 1.5% in December, Marking 11th Month of Declines \n",
      " Sales of existing homes slid 1.5% in December, somewhat better than expected but the 11th straight month of decline, the National Association of Realtors said on Friday. \n",
      "  The number was better than estimates of a 3.4% drop and brings the annual rate of home sales just a hair above 4 million. Sales are now down 34% from year-ago levels. \n",
      " “December was another difficult month for buyers, who continue to face limited inventory and high mortgage rates,” said NAR Chief Economist Lawrence Yun. “However, expect sales to pick up again soon since mortgage rates have markedly declined after peaking late last year.”\n"
     ]
    }
   ],
   "source": [
    "print(header_top2[0].text,\"\\n\",content[0].text,\"\\n\",content[1].text,content[2].text,\"\\n\",content[3].text) "
   ]
  }
 ],
 "metadata": {
  "kernelspec": {
   "display_name": "Python 3 (ipykernel)",
   "language": "python",
   "name": "python3"
  },
  "language_info": {
   "codemirror_mode": {
    "name": "ipython",
    "version": 3
   },
   "file_extension": ".py",
   "mimetype": "text/x-python",
   "name": "python",
   "nbconvert_exporter": "python",
   "pygments_lexer": "ipython3",
   "version": "3.9.7"
  }
 },
 "nbformat": 4,
 "nbformat_minor": 5
}
